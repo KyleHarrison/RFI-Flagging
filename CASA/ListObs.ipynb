{
 "cells": [
  {
   "cell_type": "code",
   "execution_count": 11,
   "metadata": {},
   "outputs": [],
   "source": [
    "visname =  '/data/users/kyle/Mishas_Data/M83'\n"
   ]
  },
  {
   "cell_type": "code",
   "execution_count": 12,
   "metadata": {},
   "outputs": [
    {
     "name": "stdout",
     "output_type": "stream",
     "text": [
      "================================================================================\n",
      "           MeasurementSet Name:  /data/users/kyle/Mishas_Data/M83      MS Version 2\n",
      "================================================================================\n",
      "   Observer: danielle     Project: 20130729-0008  \n",
      "Observation: KAT-7\n",
      "Data records: 115500       Total elapsed time = 38925.5 seconds\n",
      "   Observed from   29-Jul-2013/10:11:43.9   to   29-Jul-2013/21:00:29.5 (UTC)\n",
      "\n",
      "   ObservationID = 0         ArrayID = 0\n",
      "  Date        Timerange (UTC)          Scan  FldId FieldName             nRows     SpwIds   Average Interval(s)    ScanIntent\n",
      "  29-Jul-2013/10:11:43.9 - 10:20:03.9     5      0 M83                       2100  [0]  [5] [TARGET]\n",
      "              10:22:28.9 - 10:30:48.9     7      0 M83                       2100  [0]  [5] [TARGET]\n",
      "              10:33:13.9 - 10:41:33.9     9      0 M83                       2100  [0]  [5] [TARGET]\n",
      "              10:43:59.0 - 10:52:19.0    11      0 M83                       2100  [0]  [5] [TARGET]\n",
      "              10:54:44.0 - 11:03:04.0    13      0 M83                       2100  [0]  [5] [TARGET]\n",
      "              11:05:34.0 - 11:13:54.0    15      0 M83                       2100  [0]  [5] [TARGET]\n",
      "              11:13:54.0 - 11:22:24.0    16      0 M83                       2142  [0]  [5] [TARGET]\n",
      "              11:24:49.0 - 11:33:09.0    18      0 M83                       2100  [0]  [5] [TARGET]\n",
      "              11:35:34.0 - 11:43:54.0    20      0 M83                       2100  [0]  [5] [TARGET]\n",
      "              11:46:19.0 - 11:54:44.0    22      0 M83                       2121  [0]  [5] [TARGET]\n",
      "              11:57:09.0 - 12:05:29.0    24      0 M83                       2100  [0]  [5] [TARGET]\n",
      "              12:07:54.0 - 12:16:14.0    26      0 M83                       2100  [0]  [5] [TARGET]\n",
      "              12:16:24.0 - 12:24:44.0    27      0 M83                       2100  [0]  [5] [TARGET]\n",
      "              12:27:09.0 - 12:35:34.0    29      0 M83                       2121  [0]  [5] [TARGET]\n",
      "              12:37:59.0 - 12:46:19.1    31      0 M83                       2100  [0]  [5] [TARGET]\n",
      "              12:48:44.1 - 12:57:04.1    33      0 M83                       2100  [0]  [5] [TARGET]\n",
      "              12:59:29.1 - 13:07:49.1    35      0 M83                       2100  [0]  [5] [TARGET]\n",
      "              13:10:14.1 - 13:18:29.1    37      0 M83                       2079  [0]  [5] [TARGET]\n",
      "              13:23:04.1 - 13:31:24.1    39      0 M83                       2100  [0]  [5] [TARGET]\n",
      "              13:33:49.1 - 13:42:09.1    41      0 M83                       2100  [0]  [5] [TARGET]\n",
      "              13:44:34.1 - 13:52:49.1    43      0 M83                       2079  [0]  [5] [TARGET]\n",
      "              13:55:14.1 - 14:03:34.1    45      0 M83                       2100  [0]  [5] [TARGET]\n",
      "              14:06:04.1 - 14:14:19.1    47      0 M83                       2079  [0]  [5] [TARGET]\n",
      "              14:16:49.1 - 14:25:09.1    49      0 M83                       2100  [0]  [5] [TARGET]\n",
      "              14:29:59.1 - 14:38:19.1    51      0 M83                       2100  [0]  [5] [TARGET]\n",
      "              14:45:29.2 - 14:53:49.2    54      0 M83                       2100  [0]  [5] [TARGET]\n",
      "              15:01:14.2 - 15:09:34.2    57      0 M83                       2100  [0]  [5] [TARGET]\n",
      "              15:17:24.2 - 15:25:44.2    60      0 M83                       2100  [0]  [5] [TARGET]\n",
      "              15:43:44.2 - 15:52:09.2    65      0 M83                       2121  [0]  [5] [TARGET]\n",
      "              15:59:39.2 - 16:07:59.2    68      0 M83                       2100  [0]  [5] [TARGET]\n",
      "              16:15:19.2 - 16:23:39.2    71      0 M83                       2100  [0]  [5] [TARGET]\n",
      "              16:30:44.2 - 16:39:04.2    74      0 M83                       2100  [0]  [5] [TARGET]\n",
      "              16:41:34.2 - 16:49:54.3    76      0 M83                       2100  [0]  [5] [TARGET]\n",
      "              16:59:39.3 - 17:07:59.3    79      0 M83                       2100  [0]  [5] [TARGET]\n",
      "              17:10:24.3 - 17:18:44.3    81      0 M83                       2100  [0]  [5] [TARGET]\n",
      "              17:21:09.3 - 17:29:29.3    83      0 M83                       2100  [0]  [5] [TARGET]\n",
      "              17:31:54.3 - 17:40:14.3    85      0 M83                       2100  [0]  [5] [TARGET]\n",
      "              17:42:39.3 - 17:50:54.3    87      0 M83                       2079  [0]  [5] [TARGET]\n",
      "              17:53:19.3 - 18:01:39.3    89      0 M83                       2100  [0]  [5] [TARGET]\n",
      "              18:06:49.3 - 18:15:09.3    91      0 M83                       2100  [0]  [5] [TARGET]\n",
      "              18:17:29.3 - 18:25:49.3    93      0 M83                       2100  [0]  [5] [TARGET]\n",
      "              18:28:14.3 - 18:36:34.3    95      0 M83                       2100  [0]  [5] [TARGET]\n",
      "              18:38:54.3 - 18:47:14.4    97      0 M83                       2100  [0]  [5] [TARGET]\n",
      "              18:49:34.4 - 18:57:54.4    99      0 M83                       2100  [0]  [5] [TARGET]\n",
      "              19:00:19.4 - 19:08:39.4   101      0 M83                       2100  [0]  [5] [TARGET]\n",
      "              19:13:34.4 - 19:21:54.4   103      0 M83                       2100  [0]  [5] [TARGET]\n",
      "              19:24:19.4 - 19:32:39.4   105      0 M83                       2100  [0]  [5] [TARGET]\n",
      "              19:34:59.4 - 19:43:19.4   107      0 M83                       2100  [0]  [5] [TARGET]\n",
      "              19:45:39.4 - 19:53:59.4   109      0 M83                       2100  [0]  [5] [TARGET]\n",
      "              19:56:24.4 - 20:04:44.4   111      0 M83                       2100  [0]  [5] [TARGET]\n",
      "              20:07:04.4 - 20:15:24.4   113      0 M83                       2100  [0]  [5] [TARGET]\n",
      "              20:20:09.4 - 20:28:29.4   115      0 M83                       2100  [0]  [5] [TARGET]\n",
      "              20:30:49.4 - 20:39:09.4   117      0 M83                       2100  [0]  [5] [TARGET]\n",
      "              20:41:29.4 - 20:49:44.5   119      0 M83                       2079  [0]  [5] [TARGET]\n",
      "              20:52:09.5 - 21:00:29.5   121      0 M83                       2100  [0]  [5] [TARGET]\n",
      "           (nRows = Total number of rows per scan) \n",
      "Fields: 1\n",
      "  ID   Code Name                RA               Decl           Epoch        nRows\n",
      "  0    T    M83                 13:37:00.950000 -29.51.55.50000 J2000       115500\n",
      "Spectral Windows:  (1 unique spectral windows and 1 unique polarization setups)\n",
      "  SpwID  Name   #Chans   Frame   Ch0(MHz)  ChanWid(kHz)  TotBW(kHz) CtrFreq(MHz)  Corrs          \n",
      "  0      none     200   TOPO    1449.680      -781.250    156250.0   1371.9453   XX  XY  YX  YY\n",
      "The SOURCE table is empty: see the FIELD table\n",
      "Antennas: 7:\n",
      "  ID   Name  Station   Diam.    Long.         Lat.                Offset from array center (m)                ITRF Geocentric coordinates (m)        \n",
      "                                                                     East         North     Elevation               x               y               z\n",
      "  0    ant1  ant1      12.0 m   +021.24.39.4  -30.33.10.2      -3156.1435     -926.3379       -2.6825  5109920.341540  2003683.187321 -3239924.134917\n",
      "  1    ant2  ant2      12.0 m   +021.24.41.9  -30.33.09.1      -3090.9440     -890.8646       -2.8584  5109913.188417  2003750.409422 -3239893.497215\n",
      "  2    ant3  ant3      12.0 m   +021.24.38.6  -30.33.09.1      -3177.2553     -890.3343       -2.6340  5109945.125321  2003670.230526 -3239893.154630\n",
      "  3    ant4  ant4      12.0 m   +021.24.37.7  -30.33.09.1      -3202.8361     -891.7355       -2.6176  5109953.812849  2003646.162149 -3239894.369548\n",
      "  4    ant5  ant5      12.0 m   +021.24.37.1  -30.33.10.0      -3219.5098     -919.8090       -2.3414  5109946.834681  2003625.517908 -3239918.685814\n",
      "  5    ant6  ant6      12.0 m   +021.24.36.2  -30.33.12.5      -3242.8302     -996.8925       -2.2727  5109918.921580  2003589.526301 -3239985.101819\n",
      "  6    ant7  ant7      12.0 m   +021.24.35.2  -30.33.07.5      -3269.2278     -841.4647       -2.3410  5110002.058782  2003593.772257 -3239851.218791\n"
     ]
    },
    {
     "data": {
      "text/plain": [
       "True"
      ]
     },
     "execution_count": 12,
     "metadata": {},
     "output_type": "execute_result"
    },
    {
     "data": {
      "text/html": [
       "<button type=\"button\" class=\"btn btn-info\" data-toggle=\"collapse\" data-target=\"#log1543829638_36\">Show log</button> <div id=\"log1543829638_36\" class=\"collapse\">2018-12-03 09:33:58\tINFO\tlistobs::ms::summary\tWriting output to file: casapy_temp.txt\n",
       "<br>2018-12-03 09:33:58\tINFO\tlistobs::MSMetaData::_computeScanAndSubScanProperties \tComputing scan and subscan properties...\n",
       "</div>"
      ]
     },
     "metadata": {},
     "output_type": "display_data"
    }
   ],
   "source": [
    "listobs(vis=visname)"
   ]
  },
  {
   "cell_type": "code",
   "execution_count": 4,
   "metadata": {},
   "outputs": [
    {
     "data": {
      "image/png": "[encoded data removed]",
      "text/plain": [
       "<matplotlib.figure.Figure at 0x7f1bbc354b10>"
      ]
     },
     "metadata": {},
     "output_type": "display_data"
    },
    {
     "data": {
      "text/html": [
       "<button type=\"button\" class=\"btn btn-info\" data-toggle=\"collapse\" data-target=\"#log1542878537_37\">Show log</button> <div id=\"log1542878537_37\" class=\"collapse\">2018-11-22 09:22:16\tINFO\tplotants::::\tPreparing data ...      \n",
       "<br>2018-11-22 09:22:17\tINFO\tplotants::::\tNow get the data\n",
       "<br>2018-11-22 09:22:17\tINFO\tplotants::::\tDone Processing data ... \n",
       "<br>2018-11-22 09:22:17\tINFO\tplotants::::\tmsplot clear cache: \n",
       "<br>2018-11-22 09:22:17\tINFO\tplotants::::+\t/data/users/kyle/Mishas_Data/M83/STATE\n",
       "<br>2018-11-22 09:22:17\tINFO\tplotants::::+\t/data/users/kyle/Mishas_Data/M83/SPECTRAL_WINDOW\n",
       "<br>2018-11-22 09:22:17\tINFO\tplotants::::+\t/data/users/kyle/Mishas_Data/M83/SOURCE\n",
       "<br>2018-11-22 09:22:17\tINFO\tplotants::::+\t/data/users/kyle/Mishas_Data/M83/PROCESSOR\n",
       "<br>2018-11-22 09:22:17\tINFO\tplotants::::+\t/data/users/kyle/Mishas_Data/M83/POLARIZATION\n",
       "<br>2018-11-22 09:22:17\tINFO\tplotants::::+\t/data/users/kyle/Mishas_Data/M83/POINTING\n",
       "<br>2018-11-22 09:22:17\tINFO\tplotants::::+\t/data/users/kyle/Mishas_Data/M83/OBSERVATION\n",
       "<br>2018-11-22 09:22:17\tINFO\tplotants::::+\t/data/users/kyle/Mishas_Data/M83/HISTORY\n",
       "<br>2018-11-22 09:22:17\tINFO\tplotants::::+\t/data/users/kyle/Mishas_Data/M83/FLAG_CMD\n",
       "<br>2018-11-22 09:22:17\tINFO\tplotants::::+\t/data/users/kyle/Mishas_Data/M83/FIELD\n",
       "<br>2018-11-22 09:22:17\tINFO\tplotants::::+\t/data/users/kyle/Mishas_Data/M83/FEED\n",
       "<br>2018-11-22 09:22:17\tINFO\tplotants::::+\t/data/users/kyle/Mishas_Data/M83/DATA_DESCRIPTION\n",
       "<br>2018-11-22 09:22:17\tINFO\tplotants::::+\t/data/users/kyle/Mishas_Data/M83/ANTENNA\n",
       "<br>2018-11-22 09:22:17\tINFO\tplotants::::+\t/data/users/kyle/Mishas_Data/M83\n",
       "</div>"
      ]
     },
     "metadata": {},
     "output_type": "display_data"
    }
   ],
   "source": [
    "plotants(vis=visname)"
   ]
  },
  {
   "cell_type": "code",
   "execution_count": null,
   "metadata": {},
   "outputs": [],
   "source": []
  }
 ],
 "metadata": {
  "kernelspec": {
   "display_name": "Jupyter-Casa",
   "language": "python",
   "name": "jupyter-casa-latest"
  },
  "language_info": {
   "mimetype": "text/x-python",
   "name": "python"
  }
 },
 "nbformat": 4,
 "nbformat_minor": 2
}
