{
 "cells": [
  {
   "cell_type": "code",
   "execution_count": 15,
   "metadata": {},
   "outputs": [
    {
     "name": "stderr",
     "output_type": "stream",
     "text": [
      "\u001b[1;34m--> Opened '/users/kyle/CASA/M83_KAT7/Original/M83.image'\u001b[0m\n",
      "Image size .............................. : (1024, 1024) pixels\n",
      "Number of channels ...................... : 1\n",
      "Number of Stokes parameters ............. : 4\n",
      "Beam shape (major, minor, pos angle) .... : (5.21563e-02, 4.98881e-02, -55.1) degrees\n",
      "Frequency of image ...................... : 1371.947 MHz\n",
      "Number of blank pixels .................. : 0 (0.0%)\n",
      "Flux from sum of (non-blank) pixels ..... : 17.655 Jy\n",
      "\u001b[1;34m--> Calculating background rms and mean images\u001b[0m\n",
      "Derived rms_box (box size, step size) ... : (201, 67) pixels\n",
      "\u001b[1;34m--> Variation in rms image significant\u001b[0m\n",
      "\u001b[1;34m--> Using 2D map for background rms\u001b[0m\n",
      "\u001b[1;34m--> Variation in mean image not significant\u001b[0m\n",
      "\u001b[1;34m--> Using constant background mean\u001b[0m\n",
      "Min/max values of background rms map .... : (0.00780, 0.01084) Jy/beam\n",
      "Value of background mean ................ : 0.00165 Jy/beam\n",
      "\u001b[1;34m--> Expected 5-sigma-clipped false detection rate < fdr_ratio\u001b[0m\n",
      "\u001b[1;34m--> Using sigma-clipping ('hard') thresholding\u001b[0m\n",
      "Minimum number of pixels per island ..... : 56\n",
      "Number of islands found ................. : 7\n"
     ]
    },
    {
     "name": "stdout",
     "output_type": "stream",
     "text": [
      "\u001b[1G\u001b[0mFitting islands with Gaussians .......... : [|] 0/7\u001b[0m\u001b[46G\u001b[0m/\u001b[1D\u001b[0m\u001b[0m/\u001b[1D\u001b[0m\u001b[0m/\u001b[1D\u001b[0m\u001b[0m/\u001b[1D\u001b[0m\u001b[0m/\u001b[1D\u001b[0m\u001b[1G\u001b[0mFitting islands with Gaussians .......... : [/] 1/7\u001b[0m\u001b[39G\u001b[1G\u001b[0mFitting islands with Gaussians .......... : [/] 1/7\u001b[0m\u001b[39G\u001b[1G\u001b[0mFitting islands with Gaussians .......... : [/] 1/7\u001b[0m\u001b[39G\u001b[1G\u001b[0mFitting islands with Gaussians .......... : [/] 1/7\u001b[0m\u001b[39G\u001b[1G\u001b[0mFitting islands with Gaussians .......... : [/] 1/7\u001b[0m\u001b[39G\u001b[0m-\u001b[1D\u001b[0m\u001b[1G\u001b[0mFitting islands with Gaussians .......... : [-] 2/7\u001b[0m\u001b[32G\u001b[1G\u001b[0mFitting islands with Gaussians .......... : [] 7/7\u001b[0m\u001b[-4G\u001b[1G\u001b[0mFitting islands with Gaussians .......... : [] 7/7\u001b[0m\u001b[-4G"
     ]
    },
    {
     "name": "stderr",
     "output_type": "stream",
     "text": [
      "Total number of Gaussians fit to image .. : 9\n",
      "Total flux density in model ............. : 3.162 Jy\n",
      "\u001b[31;1mWARNING\u001b[0m: Total flux density in model is 0.18 times sum of pixels in input image. Large residuals may remain.\n",
      "\u001b[1;34m--> Grouping Gaussians into sources\u001b[0m\n"
     ]
    },
    {
     "name": "stdout",
     "output_type": "stream",
     "text": [
      "\n"
     ]
    },
    {
     "name": "stderr",
     "output_type": "stream",
     "text": [
      "Number of sources formed from Gaussians   : 7\n"
     ]
    }
   ],
   "source": [
    "import bdsf\n",
    "img = bdsf.process_image('/users/kyle/CASA/M83_KAT7/Original/M83.image',img_format = 'casa')"
   ]
  },
  {
   "cell_type": "code",
   "execution_count": 10,
   "metadata": {},
   "outputs": [
    {
     "name": "stdout",
     "output_type": "stream",
     "text": [
      "--> Wrote file '/users/kyle/CASA/M83_KAT7/GMM_Complex/BDSF.gaus_model'\n",
      "--> Wrote file '/users/kyle/CASA/M83_KAT7/GMM_Complex/BDSF.island_mask'\n"
     ]
    },
    {
     "data": {
      "text/plain": [
       "True"
      ]
     },
     "execution_count": 10,
     "metadata": {},
     "output_type": "execute_result"
    }
   ],
   "source": [
    "img.export_image(outfile= '/users/kyle/CASA/M83_KAT7/GMM_Complex/BDSF.gaus_model', img_format = 'casa', img_type = 'gaus_model')\n",
    "img.export_image(outfile= '/users/kyle/CASA/M83_KAT7/GMM_Complex/BDSF.island_mask', img_format = 'casa', img_type = 'island_mask')\n"
   ]
  },
  {
   "cell_type": "code",
   "execution_count": 14,
   "metadata": {},
   "outputs": [
    {
     "name": "stdout",
     "output_type": "stream",
     "text": [
      "--> Wrote ASCII file '/users/kyle/CASA/M83_KAT7/GMM_Complex/catalog1.csv'\n"
     ]
    },
    {
     "data": {
      "text/plain": [
       "True"
      ]
     },
     "execution_count": 14,
     "metadata": {},
     "output_type": "execute_result"
    }
   ],
   "source": [
    "img.write_catalog(outfile = '/users/kyle/CASA/M83_KAT7/GMM_Complex/catalog1.csv', format = 'csv' )"
   ]
  },
  {
   "cell_type": "code",
   "execution_count": null,
   "metadata": {},
   "outputs": [],
   "source": []
  }
 ],
 "metadata": {
  "kernelspec": {
   "display_name": "Source Finding",
   "language": "python",
   "name": "source-finding"
  },
  "language_info": {
   "codemirror_mode": {
    "name": "ipython",
    "version": 2
   },
   "file_extension": ".py",
   "mimetype": "text/x-python",
   "name": "python",
   "nbconvert_exporter": "python",
   "pygments_lexer": "ipython2",
   "version": "2.7.11+"
  }
 },
 "nbformat": 4,
 "nbformat_minor": 2
}
